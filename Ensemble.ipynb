{
 "cells": [
  {
   "cell_type": "code",
   "execution_count": 3,
   "id": "04384ca3",
   "metadata": {},
   "outputs": [
    {
     "name": "stdout",
     "output_type": "stream",
     "text": [
      "Accuracy score= 0.9417770849571317\n"
     ]
    }
   ],
   "source": [
    "cnn = model(C=2, max_iter=100)\n",
    "lstm = modelg(min_samples_leaf=10, min_samples_split=20,random_state=100)\n",
    "\n",
    "from sklearn.ensemble import VotingClassifier\n",
    "Ens = VotingClassifier( estimators= [('Log',log),('raf',raf)], voting = 'soft')\n",
    "Ens= Ens.fit(X_train , y_train) #training \n",
    "\n",
    "y_pred = Ens.predict(X_test) #predicting\n",
    "en=Ens.score(X_test, y_test)\n",
    "print('Accuracy score= {:.2f}'.format(Ens.score(X_test, y_test)))"
   ]
  },
  {
   "cell_type": "code",
   "execution_count": 9,
   "id": "fd19249a",
   "metadata": {},
   "outputs": [
    {
     "name": "stdout",
     "output_type": "stream",
     "text": [
      "\n",
      "\n",
      "Confusion Matrix\n",
      "\n",
      "\n",
      "[[11279   726]\n",
      "[  768 12887]]\n"
     ]
    }
   ],
   "source": [
    "from sklearn.metrics import classification_report, confusion_matrix\n",
    "from mlxtend.plotting import plot_confusion_matrix\n",
    "\n",
    "print('\\n')\n",
    "print(\"Confusion Matrix\")\n",
    "print('\\n')\n",
    "CR=confusion_matrix(y_test, y_pred1)\n",
    "print(CR)"
   ]
  },
  {
   "cell_type": "code",
   "execution_count": null,
   "id": "8a529846",
   "metadata": {},
   "outputs": [],
   "source": []
  }
 ],
 "metadata": {
  "kernelspec": {
   "display_name": "Python 3",
   "language": "python",
   "name": "python3"
  },
  "language_info": {
   "codemirror_mode": {
    "name": "ipython",
    "version": 3
   },
   "file_extension": ".py",
   "mimetype": "text/x-python",
   "name": "python",
   "nbconvert_exporter": "python",
   "pygments_lexer": "ipython3",
   "version": "3.8.8"
  }
 },
 "nbformat": 4,
 "nbformat_minor": 5
}
